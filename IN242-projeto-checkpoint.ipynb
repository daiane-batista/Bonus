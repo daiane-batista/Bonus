{
 "cells": [
  {
   "cell_type": "code",
   "execution_count": 1,
   "metadata": {},
   "outputs": [],
   "source": [
    "import pandas as pd\n",
    "import requests\n",
    "import datetime"
   ]
  },
  {
   "cell_type": "code",
   "execution_count": 2,
   "metadata": {},
   "outputs": [
    {
     "name": "stdout",
     "output_type": "stream",
     "text": [
      "Collecting pymongo\n",
      "  Using cached pymongo-3.11.0-cp38-cp38-win_amd64.whl (382 kB)\n",
      "Installing collected packages: pymongo\n",
      "Successfully installed pymongo-3.11.0\n"
     ]
    }
   ],
   "source": [
    "!pip3 install pymongo"
   ]
  },
  {
   "cell_type": "code",
   "execution_count": 33,
   "metadata": {},
   "outputs": [],
   "source": [
    "from pymongo import MongoClient"
   ]
  },
  {
   "cell_type": "code",
   "execution_count": 49,
   "metadata": {},
   "outputs": [],
   "source": [
    "mongo_client = MongoClient('localhost',27018)  #Conectando ao Mongo"
   ]
  },
  {
   "cell_type": "code",
   "execution_count": 50,
   "metadata": {},
   "outputs": [
    {
     "data": {
      "text/plain": [
       "MongoClient(host=['localhost:27018'], document_class=dict, tz_aware=False, connect=True)"
      ]
     },
     "execution_count": 50,
     "metadata": {},
     "output_type": "execute_result"
    }
   ],
   "source": [
    "mongo_client"
   ]
  },
  {
   "cell_type": "code",
   "execution_count": 51,
   "metadata": {},
   "outputs": [],
   "source": [
    "mongo_db = mongo_client['in242'] #Selecionando o banco que iremos trabalhar"
   ]
  },
  {
   "cell_type": "code",
   "execution_count": 52,
   "metadata": {},
   "outputs": [
    {
     "data": {
      "text/plain": [
       "Database(MongoClient(host=['localhost:27018'], document_class=dict, tz_aware=False, connect=True), 'in242')"
      ]
     },
     "execution_count": 52,
     "metadata": {},
     "output_type": "execute_result"
    }
   ],
   "source": [
    "mongo_db"
   ]
  },
  {
   "cell_type": "code",
   "execution_count": 53,
   "metadata": {},
   "outputs": [],
   "source": [
    "mongo_collection = mongo_db['qtdade'] #Selecionando a coleção"
   ]
  },
  {
   "cell_type": "code",
   "execution_count": 54,
   "metadata": {},
   "outputs": [
    {
     "data": {
      "text/plain": [
       "Collection(Database(MongoClient(host=['localhost:27018'], document_class=dict, tz_aware=False, connect=True), 'in242'), 'qtdade')"
      ]
     },
     "execution_count": 54,
     "metadata": {},
     "output_type": "execute_result"
    }
   ],
   "source": [
    "mongo_collection"
   ]
  },
  {
   "cell_type": "code",
   "execution_count": 103,
   "metadata": {},
   "outputs": [],
   "source": [
    "df = pd.DataFrame(list(mongo_collection.find())) #Importando os dados do mongoDb para o df do pandas"
   ]
  },
  {
   "cell_type": "code",
   "execution_count": 104,
   "metadata": {},
   "outputs": [
    {
     "data": {
      "text/html": [
       "<div>\n",
       "<style scoped>\n",
       "    .dataframe tbody tr th:only-of-type {\n",
       "        vertical-align: middle;\n",
       "    }\n",
       "\n",
       "    .dataframe tbody tr th {\n",
       "        vertical-align: top;\n",
       "    }\n",
       "\n",
       "    .dataframe thead th {\n",
       "        text-align: right;\n",
       "    }\n",
       "</style>\n",
       "<table border=\"1\" class=\"dataframe\">\n",
       "  <thead>\n",
       "    <tr style=\"text-align: right;\">\n",
       "      <th></th>\n",
       "      <th>_id</th>\n",
       "      <th>Local</th>\n",
       "      <th>especificacao</th>\n",
       "      <th>quantidade</th>\n",
       "      <th>data_coleta</th>\n",
       "      <th>Contagem</th>\n",
       "      <th>Quantidade</th>\n",
       "    </tr>\n",
       "  </thead>\n",
       "  <tbody>\n",
       "    <tr>\n",
       "      <th>0</th>\n",
       "      <td>5f84bde3f1ae2e29e5d042f1</td>\n",
       "      <td>Porta-X</td>\n",
       "      <td>pessoas</td>\n",
       "      <td>2.0</td>\n",
       "      <td>2020-10-12 17:34:43.192</td>\n",
       "      <td>NaN</td>\n",
       "      <td>NaN</td>\n",
       "    </tr>\n",
       "    <tr>\n",
       "      <th>1</th>\n",
       "      <td>5f84be01f1ae2e29e5d042f2</td>\n",
       "      <td>Porta-X</td>\n",
       "      <td>pessoas</td>\n",
       "      <td>3.0</td>\n",
       "      <td>2020-10-12 17:35:13.222</td>\n",
       "      <td>NaN</td>\n",
       "      <td>NaN</td>\n",
       "    </tr>\n",
       "    <tr>\n",
       "      <th>2</th>\n",
       "      <td>5f84be1ff1ae2e29e5d042f3</td>\n",
       "      <td>Porta-X</td>\n",
       "      <td>pessoas</td>\n",
       "      <td>4.0</td>\n",
       "      <td>2020-10-12 17:35:43.194</td>\n",
       "      <td>NaN</td>\n",
       "      <td>NaN</td>\n",
       "    </tr>\n",
       "    <tr>\n",
       "      <th>3</th>\n",
       "      <td>5f84be3df1ae2e29e5d042f4</td>\n",
       "      <td>Porta-X</td>\n",
       "      <td>pessoas</td>\n",
       "      <td>5.0</td>\n",
       "      <td>2020-10-12 17:36:13.195</td>\n",
       "      <td>NaN</td>\n",
       "      <td>NaN</td>\n",
       "    </tr>\n",
       "    <tr>\n",
       "      <th>4</th>\n",
       "      <td>5f84cb8523cac41cd5219774</td>\n",
       "      <td>Porta-A</td>\n",
       "      <td>NaN</td>\n",
       "      <td>NaN</td>\n",
       "      <td>2020-10-12 18:32:53.530</td>\n",
       "      <td>Pessoas</td>\n",
       "      <td>1.0</td>\n",
       "    </tr>\n",
       "    <tr>\n",
       "      <th>...</th>\n",
       "      <td>...</td>\n",
       "      <td>...</td>\n",
       "      <td>...</td>\n",
       "      <td>...</td>\n",
       "      <td>...</td>\n",
       "      <td>...</td>\n",
       "      <td>...</td>\n",
       "    </tr>\n",
       "    <tr>\n",
       "      <th>5609</th>\n",
       "      <td>5f84cba623cac41cd521ad59</td>\n",
       "      <td>Porta-A</td>\n",
       "      <td>NaN</td>\n",
       "      <td>NaN</td>\n",
       "      <td>2020-10-12 18:33:26.225</td>\n",
       "      <td>Pessoas</td>\n",
       "      <td>5606.0</td>\n",
       "    </tr>\n",
       "    <tr>\n",
       "      <th>5610</th>\n",
       "      <td>5f84cba623cac41cd521ad5a</td>\n",
       "      <td>Porta-A</td>\n",
       "      <td>NaN</td>\n",
       "      <td>NaN</td>\n",
       "      <td>2020-10-12 18:33:26.228</td>\n",
       "      <td>Pessoas</td>\n",
       "      <td>5607.0</td>\n",
       "    </tr>\n",
       "    <tr>\n",
       "      <th>5611</th>\n",
       "      <td>5f84cba623cac41cd521ad5b</td>\n",
       "      <td>Porta-A</td>\n",
       "      <td>NaN</td>\n",
       "      <td>NaN</td>\n",
       "      <td>2020-10-12 18:33:26.232</td>\n",
       "      <td>Pessoas</td>\n",
       "      <td>5608.0</td>\n",
       "    </tr>\n",
       "    <tr>\n",
       "      <th>5612</th>\n",
       "      <td>5f84cba623cac41cd521ad5c</td>\n",
       "      <td>Porta-A</td>\n",
       "      <td>NaN</td>\n",
       "      <td>NaN</td>\n",
       "      <td>2020-10-12 18:33:26.236</td>\n",
       "      <td>Pessoas</td>\n",
       "      <td>5609.0</td>\n",
       "    </tr>\n",
       "    <tr>\n",
       "      <th>5613</th>\n",
       "      <td>5f84cba623cac41cd521ad5d</td>\n",
       "      <td>Porta-A</td>\n",
       "      <td>NaN</td>\n",
       "      <td>NaN</td>\n",
       "      <td>2020-10-12 18:33:26.240</td>\n",
       "      <td>Pessoas</td>\n",
       "      <td>5610.0</td>\n",
       "    </tr>\n",
       "  </tbody>\n",
       "</table>\n",
       "<p>5614 rows × 7 columns</p>\n",
       "</div>"
      ],
      "text/plain": [
       "                           _id    Local especificacao  quantidade  \\\n",
       "0     5f84bde3f1ae2e29e5d042f1  Porta-X       pessoas         2.0   \n",
       "1     5f84be01f1ae2e29e5d042f2  Porta-X       pessoas         3.0   \n",
       "2     5f84be1ff1ae2e29e5d042f3  Porta-X       pessoas         4.0   \n",
       "3     5f84be3df1ae2e29e5d042f4  Porta-X       pessoas         5.0   \n",
       "4     5f84cb8523cac41cd5219774  Porta-A           NaN         NaN   \n",
       "...                        ...      ...           ...         ...   \n",
       "5609  5f84cba623cac41cd521ad59  Porta-A           NaN         NaN   \n",
       "5610  5f84cba623cac41cd521ad5a  Porta-A           NaN         NaN   \n",
       "5611  5f84cba623cac41cd521ad5b  Porta-A           NaN         NaN   \n",
       "5612  5f84cba623cac41cd521ad5c  Porta-A           NaN         NaN   \n",
       "5613  5f84cba623cac41cd521ad5d  Porta-A           NaN         NaN   \n",
       "\n",
       "                 data_coleta Contagem  Quantidade  \n",
       "0    2020-10-12 17:34:43.192      NaN         NaN  \n",
       "1    2020-10-12 17:35:13.222      NaN         NaN  \n",
       "2    2020-10-12 17:35:43.194      NaN         NaN  \n",
       "3    2020-10-12 17:36:13.195      NaN         NaN  \n",
       "4    2020-10-12 18:32:53.530  Pessoas         1.0  \n",
       "...                      ...      ...         ...  \n",
       "5609 2020-10-12 18:33:26.225  Pessoas      5606.0  \n",
       "5610 2020-10-12 18:33:26.228  Pessoas      5607.0  \n",
       "5611 2020-10-12 18:33:26.232  Pessoas      5608.0  \n",
       "5612 2020-10-12 18:33:26.236  Pessoas      5609.0  \n",
       "5613 2020-10-12 18:33:26.240  Pessoas      5610.0  \n",
       "\n",
       "[5614 rows x 7 columns]"
      ]
     },
     "execution_count": 104,
     "metadata": {},
     "output_type": "execute_result"
    }
   ],
   "source": [
    "df"
   ]
  },
  {
   "cell_type": "code",
   "execution_count": 105,
   "metadata": {},
   "outputs": [],
   "source": [
    "df['data_coleta'] = df['data_coleta'].dt.strftime('%m/%d/%Y') #Transformando a data para apenas dia"
   ]
  },
  {
   "cell_type": "code",
   "execution_count": 106,
   "metadata": {},
   "outputs": [
    {
     "data": {
      "text/html": [
       "<div>\n",
       "<style scoped>\n",
       "    .dataframe tbody tr th:only-of-type {\n",
       "        vertical-align: middle;\n",
       "    }\n",
       "\n",
       "    .dataframe tbody tr th {\n",
       "        vertical-align: top;\n",
       "    }\n",
       "\n",
       "    .dataframe thead th {\n",
       "        text-align: right;\n",
       "    }\n",
       "</style>\n",
       "<table border=\"1\" class=\"dataframe\">\n",
       "  <thead>\n",
       "    <tr style=\"text-align: right;\">\n",
       "      <th></th>\n",
       "      <th>_id</th>\n",
       "      <th>Local</th>\n",
       "      <th>especificacao</th>\n",
       "      <th>quantidade</th>\n",
       "      <th>data_coleta</th>\n",
       "      <th>Contagem</th>\n",
       "      <th>Quantidade</th>\n",
       "    </tr>\n",
       "  </thead>\n",
       "  <tbody>\n",
       "    <tr>\n",
       "      <th>0</th>\n",
       "      <td>5f84bde3f1ae2e29e5d042f1</td>\n",
       "      <td>Porta-X</td>\n",
       "      <td>pessoas</td>\n",
       "      <td>2.0</td>\n",
       "      <td>10/12/2020</td>\n",
       "      <td>NaN</td>\n",
       "      <td>NaN</td>\n",
       "    </tr>\n",
       "    <tr>\n",
       "      <th>1</th>\n",
       "      <td>5f84be01f1ae2e29e5d042f2</td>\n",
       "      <td>Porta-X</td>\n",
       "      <td>pessoas</td>\n",
       "      <td>3.0</td>\n",
       "      <td>10/12/2020</td>\n",
       "      <td>NaN</td>\n",
       "      <td>NaN</td>\n",
       "    </tr>\n",
       "    <tr>\n",
       "      <th>2</th>\n",
       "      <td>5f84be1ff1ae2e29e5d042f3</td>\n",
       "      <td>Porta-X</td>\n",
       "      <td>pessoas</td>\n",
       "      <td>4.0</td>\n",
       "      <td>10/12/2020</td>\n",
       "      <td>NaN</td>\n",
       "      <td>NaN</td>\n",
       "    </tr>\n",
       "    <tr>\n",
       "      <th>3</th>\n",
       "      <td>5f84be3df1ae2e29e5d042f4</td>\n",
       "      <td>Porta-X</td>\n",
       "      <td>pessoas</td>\n",
       "      <td>5.0</td>\n",
       "      <td>10/12/2020</td>\n",
       "      <td>NaN</td>\n",
       "      <td>NaN</td>\n",
       "    </tr>\n",
       "    <tr>\n",
       "      <th>4</th>\n",
       "      <td>5f84cb8523cac41cd5219774</td>\n",
       "      <td>Porta-A</td>\n",
       "      <td>NaN</td>\n",
       "      <td>NaN</td>\n",
       "      <td>10/12/2020</td>\n",
       "      <td>Pessoas</td>\n",
       "      <td>1.0</td>\n",
       "    </tr>\n",
       "    <tr>\n",
       "      <th>...</th>\n",
       "      <td>...</td>\n",
       "      <td>...</td>\n",
       "      <td>...</td>\n",
       "      <td>...</td>\n",
       "      <td>...</td>\n",
       "      <td>...</td>\n",
       "      <td>...</td>\n",
       "    </tr>\n",
       "    <tr>\n",
       "      <th>5609</th>\n",
       "      <td>5f84cba623cac41cd521ad59</td>\n",
       "      <td>Porta-A</td>\n",
       "      <td>NaN</td>\n",
       "      <td>NaN</td>\n",
       "      <td>10/12/2020</td>\n",
       "      <td>Pessoas</td>\n",
       "      <td>5606.0</td>\n",
       "    </tr>\n",
       "    <tr>\n",
       "      <th>5610</th>\n",
       "      <td>5f84cba623cac41cd521ad5a</td>\n",
       "      <td>Porta-A</td>\n",
       "      <td>NaN</td>\n",
       "      <td>NaN</td>\n",
       "      <td>10/12/2020</td>\n",
       "      <td>Pessoas</td>\n",
       "      <td>5607.0</td>\n",
       "    </tr>\n",
       "    <tr>\n",
       "      <th>5611</th>\n",
       "      <td>5f84cba623cac41cd521ad5b</td>\n",
       "      <td>Porta-A</td>\n",
       "      <td>NaN</td>\n",
       "      <td>NaN</td>\n",
       "      <td>10/12/2020</td>\n",
       "      <td>Pessoas</td>\n",
       "      <td>5608.0</td>\n",
       "    </tr>\n",
       "    <tr>\n",
       "      <th>5612</th>\n",
       "      <td>5f84cba623cac41cd521ad5c</td>\n",
       "      <td>Porta-A</td>\n",
       "      <td>NaN</td>\n",
       "      <td>NaN</td>\n",
       "      <td>10/12/2020</td>\n",
       "      <td>Pessoas</td>\n",
       "      <td>5609.0</td>\n",
       "    </tr>\n",
       "    <tr>\n",
       "      <th>5613</th>\n",
       "      <td>5f84cba623cac41cd521ad5d</td>\n",
       "      <td>Porta-A</td>\n",
       "      <td>NaN</td>\n",
       "      <td>NaN</td>\n",
       "      <td>10/12/2020</td>\n",
       "      <td>Pessoas</td>\n",
       "      <td>5610.0</td>\n",
       "    </tr>\n",
       "  </tbody>\n",
       "</table>\n",
       "<p>5614 rows × 7 columns</p>\n",
       "</div>"
      ],
      "text/plain": [
       "                           _id    Local especificacao  quantidade data_coleta  \\\n",
       "0     5f84bde3f1ae2e29e5d042f1  Porta-X       pessoas         2.0  10/12/2020   \n",
       "1     5f84be01f1ae2e29e5d042f2  Porta-X       pessoas         3.0  10/12/2020   \n",
       "2     5f84be1ff1ae2e29e5d042f3  Porta-X       pessoas         4.0  10/12/2020   \n",
       "3     5f84be3df1ae2e29e5d042f4  Porta-X       pessoas         5.0  10/12/2020   \n",
       "4     5f84cb8523cac41cd5219774  Porta-A           NaN         NaN  10/12/2020   \n",
       "...                        ...      ...           ...         ...         ...   \n",
       "5609  5f84cba623cac41cd521ad59  Porta-A           NaN         NaN  10/12/2020   \n",
       "5610  5f84cba623cac41cd521ad5a  Porta-A           NaN         NaN  10/12/2020   \n",
       "5611  5f84cba623cac41cd521ad5b  Porta-A           NaN         NaN  10/12/2020   \n",
       "5612  5f84cba623cac41cd521ad5c  Porta-A           NaN         NaN  10/12/2020   \n",
       "5613  5f84cba623cac41cd521ad5d  Porta-A           NaN         NaN  10/12/2020   \n",
       "\n",
       "     Contagem  Quantidade  \n",
       "0         NaN         NaN  \n",
       "1         NaN         NaN  \n",
       "2         NaN         NaN  \n",
       "3         NaN         NaN  \n",
       "4     Pessoas         1.0  \n",
       "...       ...         ...  \n",
       "5609  Pessoas      5606.0  \n",
       "5610  Pessoas      5607.0  \n",
       "5611  Pessoas      5608.0  \n",
       "5612  Pessoas      5609.0  \n",
       "5613  Pessoas      5610.0  \n",
       "\n",
       "[5614 rows x 7 columns]"
      ]
     },
     "execution_count": 106,
     "metadata": {},
     "output_type": "execute_result"
    }
   ],
   "source": [
    "df"
   ]
  },
  {
   "cell_type": "code",
   "execution_count": 107,
   "metadata": {},
   "outputs": [],
   "source": [
    "df_result = df[['data_coleta','Local','Quantidade']] #Seleção de colunas para organizar"
   ]
  },
  {
   "cell_type": "code",
   "execution_count": 108,
   "metadata": {},
   "outputs": [
    {
     "data": {
      "text/html": [
       "<div>\n",
       "<style scoped>\n",
       "    .dataframe tbody tr th:only-of-type {\n",
       "        vertical-align: middle;\n",
       "    }\n",
       "\n",
       "    .dataframe tbody tr th {\n",
       "        vertical-align: top;\n",
       "    }\n",
       "\n",
       "    .dataframe thead th {\n",
       "        text-align: right;\n",
       "    }\n",
       "</style>\n",
       "<table border=\"1\" class=\"dataframe\">\n",
       "  <thead>\n",
       "    <tr style=\"text-align: right;\">\n",
       "      <th></th>\n",
       "      <th>data_coleta</th>\n",
       "      <th>Local</th>\n",
       "      <th>Quantidade</th>\n",
       "    </tr>\n",
       "  </thead>\n",
       "  <tbody>\n",
       "    <tr>\n",
       "      <th>0</th>\n",
       "      <td>10/12/2020</td>\n",
       "      <td>Porta-X</td>\n",
       "      <td>NaN</td>\n",
       "    </tr>\n",
       "    <tr>\n",
       "      <th>1</th>\n",
       "      <td>10/12/2020</td>\n",
       "      <td>Porta-X</td>\n",
       "      <td>NaN</td>\n",
       "    </tr>\n",
       "    <tr>\n",
       "      <th>2</th>\n",
       "      <td>10/12/2020</td>\n",
       "      <td>Porta-X</td>\n",
       "      <td>NaN</td>\n",
       "    </tr>\n",
       "    <tr>\n",
       "      <th>3</th>\n",
       "      <td>10/12/2020</td>\n",
       "      <td>Porta-X</td>\n",
       "      <td>NaN</td>\n",
       "    </tr>\n",
       "    <tr>\n",
       "      <th>4</th>\n",
       "      <td>10/12/2020</td>\n",
       "      <td>Porta-A</td>\n",
       "      <td>1.0</td>\n",
       "    </tr>\n",
       "    <tr>\n",
       "      <th>...</th>\n",
       "      <td>...</td>\n",
       "      <td>...</td>\n",
       "      <td>...</td>\n",
       "    </tr>\n",
       "    <tr>\n",
       "      <th>5609</th>\n",
       "      <td>10/12/2020</td>\n",
       "      <td>Porta-A</td>\n",
       "      <td>5606.0</td>\n",
       "    </tr>\n",
       "    <tr>\n",
       "      <th>5610</th>\n",
       "      <td>10/12/2020</td>\n",
       "      <td>Porta-A</td>\n",
       "      <td>5607.0</td>\n",
       "    </tr>\n",
       "    <tr>\n",
       "      <th>5611</th>\n",
       "      <td>10/12/2020</td>\n",
       "      <td>Porta-A</td>\n",
       "      <td>5608.0</td>\n",
       "    </tr>\n",
       "    <tr>\n",
       "      <th>5612</th>\n",
       "      <td>10/12/2020</td>\n",
       "      <td>Porta-A</td>\n",
       "      <td>5609.0</td>\n",
       "    </tr>\n",
       "    <tr>\n",
       "      <th>5613</th>\n",
       "      <td>10/12/2020</td>\n",
       "      <td>Porta-A</td>\n",
       "      <td>5610.0</td>\n",
       "    </tr>\n",
       "  </tbody>\n",
       "</table>\n",
       "<p>5614 rows × 3 columns</p>\n",
       "</div>"
      ],
      "text/plain": [
       "     data_coleta    Local  Quantidade\n",
       "0     10/12/2020  Porta-X         NaN\n",
       "1     10/12/2020  Porta-X         NaN\n",
       "2     10/12/2020  Porta-X         NaN\n",
       "3     10/12/2020  Porta-X         NaN\n",
       "4     10/12/2020  Porta-A         1.0\n",
       "...          ...      ...         ...\n",
       "5609  10/12/2020  Porta-A      5606.0\n",
       "5610  10/12/2020  Porta-A      5607.0\n",
       "5611  10/12/2020  Porta-A      5608.0\n",
       "5612  10/12/2020  Porta-A      5609.0\n",
       "5613  10/12/2020  Porta-A      5610.0\n",
       "\n",
       "[5614 rows x 3 columns]"
      ]
     },
     "execution_count": 108,
     "metadata": {},
     "output_type": "execute_result"
    }
   ],
   "source": [
    "df_result"
   ]
  },
  {
   "cell_type": "code",
   "execution_count": 109,
   "metadata": {},
   "outputs": [],
   "source": [
    "df_media = df_result.groupby('data_coleta')['Quantidade'].mean() #Realizando a média por data"
   ]
  },
  {
   "cell_type": "code",
   "execution_count": 110,
   "metadata": {},
   "outputs": [
    {
     "data": {
      "text/plain": [
       "data_coleta\n",
       "10/12/2020    2805.5\n",
       "Name: Quantidade, dtype: float64"
      ]
     },
     "execution_count": 110,
     "metadata": {},
     "output_type": "execute_result"
    }
   ],
   "source": [
    "df_media.head()"
   ]
  },
  {
   "cell_type": "code",
   "execution_count": 129,
   "metadata": {
    "scrolled": true
   },
   "outputs": [
    {
     "data": {
      "text/plain": [
       "<matplotlib.axes._subplots.AxesSubplot at 0x2712c507af0>"
      ]
     },
     "execution_count": 129,
     "metadata": {},
     "output_type": "execute_result"
    },
    {
     "data": {
      "image/png": "[encoded data removed]",
      "text/plain": [
       "<Figure size 432x288 with 1 Axes>"
      ]
     },
     "metadata": {
      "needs_background": "light"
     },
     "output_type": "display_data"
    }
   ],
   "source": [
    "df_media.plot() #Plotando gráfico"
   ]
  }
 ],
 "metadata": {
  "kernelspec": {
   "display_name": "Python 3",
   "language": "python",
   "name": "python3"
  },
  "language_info": {
   "codemirror_mode": {
    "name": "ipython",
    "version": 3
   },
   "file_extension": ".py",
   "mimetype": "text/x-python",
   "name": "python",
   "nbconvert_exporter": "python",
   "pygments_lexer": "ipython3",
   "version": "3.8.3"
  }
 },
 "nbformat": 4,
 "nbformat_minor": 4
}
